{
 "cells": [
  {
   "cell_type": "code",
   "execution_count": 12,
   "id": "6bf6ef33-8852-47b3-8fd5-3494b882e69d",
   "metadata": {
    "scrolled": true
   },
   "outputs": [],
   "source": [
    "import pandas as pd\n",
    "from sklearn.tree import DecisionTreeClassifier\n",
    "from sklearn.model_selection import train_test_split\n",
    "from sklearn.metrics import accuracy_score \n",
    "from sklearn import tree\n",
    "import joblib\n",
    "\n",
    "# importing the dataset\n",
    "music_data = pd.read_csv('music.csv')\n"
   ]
  },
  {
   "cell_type": "code",
   "execution_count": 14,
   "id": "5617c59f-5eda-477b-be03-32dee3964426",
   "metadata": {},
   "outputs": [
    {
     "data": {
      "text/plain": [
       "['music-recommender.joblib']"
      ]
     },
     "execution_count": 14,
     "metadata": {},
     "output_type": "execute_result"
    }
   ],
   "source": [
    "X = music_data.drop(columns=['genre'])\n",
    "y = music_data['genre']\n",
    "\n",
    "# Splitting the dataset to training and testing sets\n",
    "X_train, X_test, y_train, y_test = train_test_split(X, y, test_size=0.2)\n",
    "\n",
    "#DecisionTreeClassifier model selected\n",
    "model = DecisionTreeClassifier()\n",
    "\n",
    "# Training the model\n",
    "model.fit(X_train, y_train)\n",
    "\n",
    "# Visualizing the decision tree\n",
    "tree.export_graphviz(model, out_file='music-recommender.dot', \n",
    "                     feature_names=['age','gender'], \n",
    "                     class_names=sorted(y.unique()), \n",
    "                     label='all', \n",
    "                     rounded=True,\n",
    "                     filled=True\n",
    "                    )\n",
    "\n",
    "# Persisting the trained model\n",
    "joblib.dump(model, \"music-recommender.joblib\")\n",
    "\n",
    "# predictions = model.predict(X_test)\n",
    "\n",
    "# score = accuracy_score(y_test, predictions)"
   ]
  },
  {
   "cell_type": "code",
   "execution_count": null,
   "id": "aefed649-6fb9-42c9-8f81-00564577a403",
   "metadata": {},
   "outputs": [],
   "source": [
    "# Loading the persisted trained model\n",
    "model = joblib.load('music-recommender.joblib')\n",
    "predictions = model.predict([[21, 1]])"
   ]
  }
 ],
 "metadata": {
  "kernelspec": {
   "display_name": "Python 3 (ipykernel)",
   "language": "python",
   "name": "python3"
  },
  "language_info": {
   "codemirror_mode": {
    "name": "ipython",
    "version": 3
   },
   "file_extension": ".py",
   "mimetype": "text/x-python",
   "name": "python",
   "nbconvert_exporter": "python",
   "pygments_lexer": "ipython3",
   "version": "3.12.4"
  }
 },
 "nbformat": 4,
 "nbformat_minor": 5
}
